{
 "cells": [
  {
   "cell_type": "code",
   "execution_count": null,
   "id": "6335caa8",
   "metadata": {},
   "outputs": [],
   "source": [
    "#%pip install faiss-cpu\n",
    "#conda install -c pytorch faiss-gpu"
   ]
  },
  {
   "cell_type": "code",
   "execution_count": 1,
   "id": "d2d31c9f",
   "metadata": {},
   "outputs": [
    {
     "name": "stderr",
     "output_type": "stream",
     "text": [
      "c:\\Users\\iwcyo\\miniconda3\\envs\\dev\\Lib\\site-packages\\tqdm\\auto.py:21: TqdmWarning: IProgress not found. Please update jupyter and ipywidgets. See https://ipywidgets.readthedocs.io/en/stable/user_install.html\n",
      "  from .autonotebook import tqdm as notebook_tqdm\n",
      "c:\\Users\\iwcyo\\miniconda3\\envs\\dev\\Lib\\site-packages\\huggingface_hub\\file_download.py:143: UserWarning: `huggingface_hub` cache-system uses symlinks by default to efficiently store duplicated files but your machine does not support them in C:\\Users\\iwcyo\\.cache\\huggingface\\hub\\models--BAAI--bge-small-zh. Caching files will still work but in a degraded version that might require more space on your disk. This warning can be disabled by setting the `HF_HUB_DISABLE_SYMLINKS_WARNING` environment variable. For more details, see https://huggingface.co/docs/huggingface_hub/how-to-cache#limitations.\n",
      "To support symlinks on Windows, you either need to activate Developer Mode or to run Python as an administrator. In order to activate developer mode, see this article: https://docs.microsoft.com/en-us/windows/apps/get-started/enable-your-device-for-development\n",
      "  warnings.warn(message)\n"
     ]
    }
   ],
   "source": [
    "from langchain.vectorstores import FAISS\n",
    "import torch\n",
    "from langchain_huggingface import HuggingFaceEmbeddings\n",
    "\n",
    "embedding_model = HuggingFaceEmbeddings(\n",
    "    model_name=\"BAAI/bge-small-zh\",  # 或其他\n",
    "    model_kwargs={\"device\": \"cuda\" if torch.cuda.is_available() else \"cpu\"}\n",
    ")\n",
    "\n",
    "# from langchain_openai import OpenAIEmbeddings #需要openai的 API Key\n",
    "# 如果需要使用 HuggingFace 的模型\n",
    "# from sentence_transformers import SentenceTransformer\n",
    "# embedding_model = SentenceTransformer(\"shibing624/text2vec-base-chinese\")\n",
    "\n",
    "from langchain.text_splitter import RecursiveCharacterTextSplitter\n",
    "from langchain.document_loaders import (\n",
    "    PyPDFLoader,\n",
    "    UnstructuredWordDocumentLoader,\n",
    "    UnstructuredExcelLoader,\n",
    ")\n",
    "import os\n",
    "\n",
    "# 支持加载多种格式的文档\n",
    "def load_documents_from_folder(folder_path: str):\n",
    "    docs = []\n",
    "    for filename in os.listdir(folder_path):\n",
    "        file_path = os.path.join(folder_path, filename)\n",
    "        if filename.endswith(\".pdf\"):\n",
    "            loader = PyPDFLoader(file_path)\n",
    "        elif filename.endswith(\".docx\"):\n",
    "            loader = UnstructuredWordDocumentLoader(file_path)\n",
    "        elif filename.endswith(\".xlsx\") or filename.endswith(\".xls\"):\n",
    "            loader = UnstructuredExcelLoader(file_path)\n",
    "        else:\n",
    "            continue\n",
    "        docs.extend(loader.load())\n",
    "    return docs\n",
    "\n",
    "# 切块 + 嵌入 + 存入 FAISS\n",
    "def build_faiss_index_from_folder(folder_path: str, index_save_path: str):\n",
    "    print(\" 加载法规文档中...\")\n",
    "    raw_docs = load_documents_from_folder(folder_path)\n",
    "    \n",
    "    print(\" 切分文档为片段...\")\n",
    "    splitter = RecursiveCharacterTextSplitter(chunk_size=500, chunk_overlap=100)\n",
    "    split_docs = splitter.split_documents(raw_docs)\n",
    "    \n",
    "    print(\" 构建嵌入向量...\")\n",
    "    # embeddings = OpenAIEmbeddings()  # 或 HuggingFaceEmbeddings(model_name=\\\"...\\\")\n",
    "    embeddings = embedding_model  \n",
    "\n",
    "    print(\" 构建 FAISS 向量数据库...\")\n",
    "    vectordb = FAISS.from_documents(split_docs, embeddings)\n",
    "\n",
    "    print(f\" 保存向量数据库至：{index_save_path}\")\n",
    "    vectordb.save_local(index_save_path)\n",
    "    return vectordb\n"
   ]
  },
  {
   "cell_type": "code",
   "execution_count": 2,
   "id": "5dbbf706",
   "metadata": {},
   "outputs": [
    {
     "name": "stdout",
     "output_type": "stream",
     "text": [
      " 加载法规文档中...\n",
      " 切分文档为片段...\n",
      " 构建嵌入向量...\n",
      " 构建 FAISS 向量数据库...\n",
      " 保存向量数据库至：./faiss_law_index\n"
     ]
    },
    {
     "data": {
      "text/plain": [
       "<langchain_community.vectorstores.faiss.FAISS at 0x210f5ddf470>"
      ]
     },
     "execution_count": 2,
     "metadata": {},
     "output_type": "execute_result"
    }
   ],
   "source": [
    "# 示例调用\n",
    "folder = \"./rule\"\n",
    "save_path = \"./faiss_law_index\"\n",
    "build_faiss_index_from_folder(folder, save_path)"
   ]
  },
  {
   "cell_type": "code",
   "execution_count": 2,
   "id": "c5a84644",
   "metadata": {},
   "outputs": [],
   "source": [
    "from langchain.vectorstores import FAISS\n",
    "import torch\n",
    "from langchain_huggingface import HuggingFaceEmbeddings\n",
    "\n",
    "def query_law_index(query_text: str, index_path: str = \"./faiss_law_index\", k=3):\n",
    "    vectordb = FAISS.load_local(index_path, embedding_model, allow_dangerous_deserialization=True\n",
    ")\n",
    "    docs = vectordb.similarity_search(query_text, k=k)\n",
    "    return \"\\n\\n\".join([d.page_content for d in docs])\n"
   ]
  },
  {
   "cell_type": "code",
   "execution_count": 3,
   "id": "7b67f94a",
   "metadata": {},
   "outputs": [],
   "source": [
    "state = {\n",
    "    'filled_input': '运输企业在运输过程中，存在泥头车路面遗洒，责任如何划分？'\n",
    "}\n",
    "rag_context = query_law_index(state['filled_input'])\n",
    "\n",
    "prompt = f\"\"\"\n",
    "请参考以下法规内容作为决策依据:\n",
    "{rag_context}\n",
    "\n",
    "描述如下:\n",
    "{state['filled_input']}\n",
    "\n",
    "请判断责任归属及依据。\n",
    "输出：\n",
    "{{\n",
    "  \"responsibility\": \"运输企业\",\n",
    "  \"reason\": \"......\"\n",
    "}}\n",
    "\"\"\"\n"
   ]
  },
  {
   "cell_type": "code",
   "execution_count": null,
   "id": "d0d3ce8f",
   "metadata": {},
   "outputs": [],
   "source": [
    "import os\n",
    "import openai\n",
    "import sys\n",
    "# sys.path.append('../..')\n",
    "\n",
    "from dotenv import load_dotenv, find_dotenv\n",
    "_ = load_dotenv(find_dotenv()) # read local .env file\n",
    "\n",
    "openai.api_key  = os.environ['API_KEY']"
   ]
  },
  {
   "cell_type": "code",
   "execution_count": null,
   "id": "8d2f154b",
   "metadata": {},
   "outputs": [],
   "source": [
    "import os\n",
    "os.environ[\"OPENAI_API_KEY\"] = \"\"\n"
   ]
  },
  {
   "cell_type": "code",
   "execution_count": 8,
   "id": "7a43bd58",
   "metadata": {},
   "outputs": [
    {
     "name": "stdout",
     "output_type": "stream",
     "text": [
      "📘 模型返回：\n",
      "```json\n",
      "{\n",
      "  \"responsibility\": \"运输企业\",\n",
      "  \"reason\": \"根据法规内容，运输企业作为整改主体，应确保泥头车在运输过程中遵守车辆操作规范和运输流程合规性。具体包括驾驶新型智能全密闭式泥头车，装载量不得超过核定标准，杜绝超载；每日出车前、收车后对车辆进行基本维护检查，并保持车内外整洁；按规定时间和路线行驶，进出工地前配合监管员完成车身冲洗，确保无带泥上路现象。运输企业在运输过程中存在泥头车路面遗洒，表明其未履行上述责任，因此责任归属于运输企业。\"\n",
      "}\n",
      "```\n"
     ]
    }
   ],
   "source": [
    "from langchain.chat_models import ChatOpenAI  # 可替换为 deepseek-r1\n",
    "from langchain.schema import HumanMessage\n",
    "from langchain.vectorstores import FAISS\n",
    "from langchain_huggingface import HuggingFaceEmbeddings\n",
    "\n",
    "#  加载 FAISS 向量库\n",
    "vectordb = FAISS.load_local(\n",
    "    folder_path=\"./faiss_law_index\",  # 你保存的知识库路径\n",
    "    embeddings=HuggingFaceEmbeddings(model_name=\"BAAI/bge-small-zh\"),\n",
    "    allow_dangerous_deserialization=True\n",
    ")\n",
    "\n",
    "#  构造检索函数\n",
    "def query_law_index(query_text: str, k=3):\n",
    "    docs = vectordb.similarity_search(query_text, k=k)\n",
    "    return \"\\n\\n\".join([doc.page_content for doc in docs])\n",
    "\n",
    "#  构造 LangChain 模型（可替换为 DeepSeek）\n",
    "# llm = ChatOpenAI(temperature=0, model=\"gpt-4\")  # 或调用 deepseek-r1 的兼容封装\n",
    "\n",
    "llm = ChatOpenAI(\n",
    "    temperature=0,\n",
    "    model=\"deepseek-chat\",  # 可以使用 deepseek-chat、deepseek-coder 等\n",
    "    openai_api_base=\"https://api.deepseek.com/v1\",\n",
    "    openai_api_key=os.environ[\"OPENAI_API_KEY\"]\n",
    ")\n",
    "\n",
    "#  模拟状态输入\n",
    "state = {\n",
    "    'filled_input': '运输企业在运输过程中，存在泥头车路面遗洒，责任如何划分？'\n",
    "}\n",
    "\n",
    "#  查询法规知识库\n",
    "rag_context = query_law_index(state['filled_input'])\n",
    "\n",
    "#  构造最终 Prompt\n",
    "prompt = f\"\"\"\n",
    "你是一位城市治理法规专家，请结合以下法规内容判断城市泥头车污染事件的责任归属。\n",
    "\n",
    "法规内容如下：\n",
    "{rag_context}\n",
    "\n",
    "描述如下：\n",
    "{state['filled_input']}\n",
    "\n",
    "请判断责任归属，并说明理由。\n",
    "输出 JSON 格式：\n",
    "{{\n",
    "  \"responsibility\": \"运输企业\",\n",
    "  \"reason\": \"......\"\n",
    "}}\n",
    "\"\"\"\n",
    "\n",
    "#  调用大模型进行回答\n",
    "response = llm.invoke([HumanMessage(content=prompt)])\n",
    "\n",
    "#  输出结果\n",
    "print(\"📘 模型返回：\")\n",
    "print(response.content)\n"
   ]
  },
  {
   "cell_type": "code",
   "execution_count": null,
   "id": "c039edad",
   "metadata": {},
   "outputs": [
    {
     "name": "stdout",
     "output_type": "stream",
     "text": [
      "📦 向量库加载成功！\n",
      "📄 当前文档片段数：17\n",
      "\n",
      "🔍 文档片段预览（前 3 条）：\n",
      "\n",
      "--- 文档 1 ---\n",
      "事件分类分级清单\n",
      "（试行第一版）\n",
      "\n",
      "--- 文档 2 ---\n",
      "序号 一级分类 二级分类 三级分类\\n事件描述 四级分类\\n事件描述 要素 行业标准（法律（文件）依据） 区域（红线内、红线外、全域） 满足事项上报的时段 事件\\n等级 圈层提级 环节 时限（小时/天） 主体 主体名称 岗位 人 职责 业务标准 考核标准 考核周期 备注\\n（非必填） 1 城市管理 道路保洁 道路遗撒 泥头车遗撒 消防通道 《深圳经济特区市容和环境卫生管理条例》、《深圳市建筑废弃物管理办法》 全域 全天 A 自治 发现 / 自查主体 运输企业 监管员 1.落实车辆与驾驶员的资质管理\\n2.动态监管（GPS）实时追踪泥头车\\n3.安装安全装置（如全封闭式货箱）\\n4.定期组织驾驶员安全培训\n",
      "\n",
      "--- 文档 3 ---\n",
      "全域 全天 A 自治 发现 / 自查主体 运输企业 监管员 1.落实车辆与驾驶员的资质管理\\n2.动态监管（GPS）实时追踪泥头车\\n3.安装安全装置（如全封闭式货箱）\\n4.定期组织驾驶员安全培训 1.证件审核：驾驶员需持有与准驾车型匹配的驾驶证、特种作业证，并完成泥头车专项安全培训。车辆须具备行驶证、道路运输经营许可证、城市建筑垃圾准运证。\\n2.动态监管：所有车辆强制安装带卫星定位功能的GPS设备，并接入统一监控平台。设置限速（高速公路70km/h、城市道路40km/h）、限定行驶路线及时间，实时预警超速、偏离路线等行为。\\n3.封闭要求：货箱须采用全封闭平推式顶盖，尾门密封防漏撒，严禁超高超载。\\n4.培训频率：新驾驶员岗前培训≥8小时，在职驾驶员每季度至少1次安全培训。 （一）正面清单：\\n1.合法运营\\n2.车辆安全规范\\n3.车辆安全运输\\n4.建立信息化管理\\n（二）负面清单：\\n1.无证运营\\n2.车辆安全隐患\\n3.车辆违规运输\\n4.缺失信息化管理 / 自查主体 工地企业 监管员 1.选择合规运输企业\\n2.施工现场管理\\n3.周边环境保护\n",
      "\n",
      "🔎 示例检索结果：\n",
      "\n",
      ">>> Top-1 相关法规内容：\n",
      "/ 监管主体 公安交警 / 强化路面运输管理，充分利用“雪亮工程”、道路查违摄像头、车牌号自动识别、不停车超限检测等技术手段，及时发现、查出建筑废弃物运输过程中存在的违法行为。对于发现的运输车辆存在超载、车体不洁、沿途撒漏等违规、违法行为，要查清弃土路线，并及时向区城管局、各街道办等成员单位通报信息，做到全链条监管。 / 监管主体 区交通局 / 履行执法监督检查职能，及时备案、汇总并分享泥头车备案及所属企业信息。加强建筑废弃物运输车辆道路执法检查,对未履行安全生产主体责任的企业严格按照相关法律法规依法处罚。 / 监管主体 区水务局 / 查处向排水检查井、雨水口和排水明渠内排放或者倾倒污泥、淤泥等废弃物的行为 / 监管主体 区城管局 / 负责指导、监督街道执法队开展泥头车遗撒等执法工作，对街道执法成效进行考核，落实规范化建设，推进执法业务提质提效。 （1）负责梳理相关法律法规，结合执法实务，明确泥头车执法工作指引。\\n（2）推行环卫、绿化、市容巡查三者实行职责绑定、一岗多责制，市容巡查员强化泥头车遗撒问题发现职能。三是针对泥头车执法相关问题对街道执法队开展业务培训1次及以上。\n",
      "\n",
      ">>> Top-2 相关法规内容：\n",
      "路面硬底化情况、车身整洁度、车辆形式规范性、冲水设施设置情况、围栏作业情况、视频资料管理情况。 监督 / 管理主体\\n（监督泥头车运输方面） 交通局/物业城市服务供应商 货物运输管理岗/城市管家 1.交通局货物运输管理岗：制定泥头车运输管理政策，核发道路运输经营许可证。监督运输企业资质，要求泥头车必须采取密闭措施，防止物料遗撒。\\n2.城市管家：在日常主车道巡查中监督是否存在泥头车头车道路遗撒、车身挂泥、超高装载等问题，在事件发生后，需及时制止、教育批评、组织清理（如需）并协助执法部门取证。 / 管理主体\\n（监督施工管理方面） 住建局/街道办事处/社区 工程监管岗/巡查员/网格员\n",
      "\n",
      ">>> Top-3 相关法规内容：\n",
      "1.车辆操作规范\\n驾驶新型智能全密闭式泥头车，装载量不得超过核定标准，杜绝超载。每日出车前、收车后对车辆进行基本维护检查（如刹车系统、灯光、密封装置），并保持车内外整洁。\\n2.运输流程合规性\\n按规定时间和路线行驶，进出工地前配合监管员完成车身冲洗，确保无带泥上路现象。使用车载智能设备（如盲区报警系统、GPS定位），实时上传行驶数据至监管平台。 1.车辆操作规范考核\\n2.运输流程规范考核 / 整改主体 工地企业 工地工人 1.工地出入口清洁维护\\n负责操作高压冲洗设备，确保每辆泥头车离场前彻底清洁车身、车轮，防止带泥上路。及时清理工地出入口及周边道路的洒漏泥土、积水，保持路面整洁。\\n2.施工过程污染防控\\n在装卸渣土时协助检查车辆密封性，发现装载过满或密封装置故障需立即上报。配合监管员巡查工地内运输路线，及时修复破损路面或围挡，减少扬尘和泥土外溢风险。\n"
     ]
    }
   ],
   "source": [
    "from langchain.vectorstores import FAISS\n",
    "from langchain_huggingface import HuggingFaceEmbeddings\n",
    "\n",
    "#  设置向量库路径\n",
    "index_path = \"./faiss_law_index\"\n",
    "\n",
    "# 加载向量库（本地，确保路径正确）\n",
    "vectordb = FAISS.load_local(\n",
    "    folder_path=index_path,\n",
    "    embeddings=HuggingFaceEmbeddings(model_name=\"BAAI/bge-small-zh\"),\n",
    "    allow_dangerous_deserialization=True\n",
    ")\n",
    "\n",
    "#  1. 打印数据库信息\n",
    "print(\"📦 向量库加载成功！\")\n",
    "print(f\"📄 当前文档片段数：{len(vectordb.docstore._dict)}\")\n",
    "\n",
    "#  2. 显示前几条内容\n",
    "print(\"\\n🔍 文档片段预览（前 3 条）：\")\n",
    "for i, (doc_id, doc) in enumerate(vectordb.docstore._dict.items()):\n",
    "    print(f\"\\n--- 文档 {i+1} ---\")\n",
    "    print(doc.page_content)\n",
    "    if i >= 2:  # 只展示前3条\n",
    "        break\n",
    "\n",
    "#  3. 可选：执行一次关键字检索\n",
    "query = \"泥头车运输过程中未密闭造成路面污染，如何认定责任？\"\n",
    "results = vectordb.similarity_search(query, k=3)\n",
    "\n",
    "print(\"\\n🔎 示例检索结果：\")\n",
    "for i, r in enumerate(results):\n",
    "    print(f\"\\n>>> Top-{i+1} 相关法规内容：\")\n",
    "    print(r.page_content)\n"
   ]
  }
 ],
 "metadata": {
  "kernelspec": {
   "display_name": "holistic",
   "language": "python",
   "name": "python3"
  },
  "language_info": {
   "codemirror_mode": {
    "name": "ipython",
    "version": 3
   },
   "file_extension": ".py",
   "mimetype": "text/x-python",
   "name": "python",
   "nbconvert_exporter": "python",
   "pygments_lexer": "ipython3",
   "version": "3.12.11"
  }
 },
 "nbformat": 4,
 "nbformat_minor": 5
}
